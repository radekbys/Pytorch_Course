{
 "cells": [
  {
   "cell_type": "markdown",
   "metadata": {},
   "source": [
    "# Computer Vision and Convolutionary Neural Networks\n",
    "\n",
    "## 0. Computer vision libraries\n",
    "* \"torchvision\" base domain library for PyTorch computer vision\n",
    "* \"torchvision.datasets\" datasets and data loading functions for computer vision\n",
    "* \"torchvision.models\" pretrained models for computer vision models\n",
    "* \"torchvision.transforms\" fuctions for manipulating vision data\n",
    "* \"torchvision.utils.data.Dataset\" base dataset class for pytorch\n",
    "* \"torch.utils.data.DataLoader\" creates a python iterable over a dataset"
   ]
  },
  {
   "cell_type": "code",
   "execution_count": 36,
   "metadata": {},
   "outputs": [
    {
     "name": "stdout",
     "output_type": "stream",
     "text": [
      "2.4.1+cu124\n",
      "0.19.1+cu124\n"
     ]
    }
   ],
   "source": [
    "import torch\n",
    "from torch import nn\n",
    "\n",
    "import torchvision\n",
    "from torchvision import datasets\n",
    "from torchvision import transforms\n",
    "from torchvision.transforms import ToTensor\n",
    "\n",
    "from torch.utils.data import Dataset\n",
    "from torch.utils.data import DataLoader\n",
    "\n",
    "from torchmetrics.classification import F1Score\n",
    "from torchmetrics.classification import Accuracy\n",
    "from torchmetrics.classification import ConfusionMatrix\n",
    "\n",
    "import matplotlib.pyplot as plt\n",
    "import numpy as np\n",
    "import pandas as pd\n",
    "from timeit import default_timer as timer\n",
    "from tqdm.auto import tqdm\n",
    "from mlxtend.plotting import plot_confusion_matrix\n",
    "from pathlib import Path\n",
    "\n",
    "\n",
    "\n",
    "print(torch.__version__)\n",
    "print(torchvision.__version__)"
   ]
  },
  {
   "cell_type": "code",
   "execution_count": 3,
   "metadata": {},
   "outputs": [
    {
     "data": {
      "text/plain": [
       "'cuda'"
      ]
     },
     "execution_count": 3,
     "metadata": {},
     "output_type": "execute_result"
    }
   ],
   "source": [
    "device = \"cpu\"\n",
    "if torch.cuda.is_available():\n",
    "    device = \"cuda\"\n",
    "device"
   ]
  },
  {
   "cell_type": "markdown",
   "metadata": {},
   "source": [
    "## 1. Dataset"
   ]
  },
  {
   "cell_type": "code",
   "execution_count": 4,
   "metadata": {},
   "outputs": [],
   "source": [
    "train_data = datasets.FashionMNIST(\n",
    "    root=\"data\",  # where to download data to\n",
    "    train=True,  # should we get the training dataset, otherwise testing data is downloaded\n",
    "    download=True,  # if we want to download it\n",
    "    transform=ToTensor(),  # HOW DO WE WANT TO TRANSFORM THE DATA\n",
    "    target_transform=None,  # transforming the labels\n",
    ")\n",
    "\n",
    "test_data = datasets.FashionMNIST(\n",
    "    root=\"data\", train=False, download=True, transform=ToTensor(), target_transform=None\n",
    ")"
   ]
  },
  {
   "cell_type": "code",
   "execution_count": 5,
   "metadata": {},
   "outputs": [
    {
     "data": {
      "text/plain": [
       "(60000, 10000)"
      ]
     },
     "execution_count": 5,
     "metadata": {},
     "output_type": "execute_result"
    }
   ],
   "source": [
    "len(train_data), len(test_data)"
   ]
  },
  {
   "cell_type": "code",
   "execution_count": 6,
   "metadata": {},
   "outputs": [
    {
     "data": {
      "text/plain": [
       "['T-shirt/top',\n",
       " 'Trouser',\n",
       " 'Pullover',\n",
       " 'Dress',\n",
       " 'Coat',\n",
       " 'Sandal',\n",
       " 'Shirt',\n",
       " 'Sneaker',\n",
       " 'Bag',\n",
       " 'Ankle boot']"
      ]
     },
     "execution_count": 6,
     "metadata": {},
     "output_type": "execute_result"
    }
   ],
   "source": [
    "class_names = train_data.classes\n",
    "class_names"
   ]
  },
  {
   "cell_type": "code",
   "execution_count": 7,
   "metadata": {},
   "outputs": [
    {
     "data": {
      "text/plain": [
       "{'T-shirt/top': 0,\n",
       " 'Trouser': 1,\n",
       " 'Pullover': 2,\n",
       " 'Dress': 3,\n",
       " 'Coat': 4,\n",
       " 'Sandal': 5,\n",
       " 'Shirt': 6,\n",
       " 'Sneaker': 7,\n",
       " 'Bag': 8,\n",
       " 'Ankle boot': 9}"
      ]
     },
     "execution_count": 7,
     "metadata": {},
     "output_type": "execute_result"
    }
   ],
   "source": [
    "class_to_idx = train_data.class_to_idx\n",
    "class_to_idx"
   ]
  },
  {
   "cell_type": "code",
   "execution_count": 8,
   "metadata": {},
   "outputs": [
    {
     "data": {
      "text/plain": [
       "(torch.Size([1, 28, 28]), 9)"
      ]
     },
     "execution_count": 8,
     "metadata": {},
     "output_type": "execute_result"
    }
   ],
   "source": [
    "image, label = train_data[0]\n",
    "image.shape, label"
   ]
  },
  {
   "cell_type": "markdown",
   "metadata": {},
   "source": [
    "### 1.2 Visualizing data"
   ]
  },
  {
   "cell_type": "code",
   "execution_count": 9,
   "metadata": {},
   "outputs": [
    {
     "data": {
      "image/png": "[encoded data removed]",
      "text/plain": [
       "<Figure size 640x480 with 1 Axes>"
      ]
     },
     "metadata": {},
     "output_type": "display_data"
    }
   ],
   "source": [
    "plt.imshow(image[0])\n",
    "plt.show()"
   ]
  },
  {
   "cell_type": "code",
   "execution_count": 10,
   "metadata": {},
   "outputs": [
    {
     "data": {
      "image/png": "[encoded data removed]",
      "text/plain": [
       "<Figure size 640x480 with 1 Axes>"
      ]
     },
     "metadata": {},
     "output_type": "display_data"
    }
   ],
   "source": [
    "plt.imshow(image.squeeze(), cmap=\"gray\")\n",
    "plt.title(class_names[label])\n",
    "plt.axis(False)\n",
    "plt.show()"
   ]
  },
  {
   "cell_type": "code",
   "execution_count": 11,
   "metadata": {},
   "outputs": [
    {
     "data": {
      "image/png": "[encoded data removed]",
      "text/plain": [
       "<Figure size 900x900 with 16 Axes>"
      ]
     },
     "metadata": {},
     "output_type": "display_data"
    }
   ],
   "source": [
    "torch.manual_seed = 42\n",
    "fig = plt.figure(figsize=(9, 9))\n",
    "rows, cols = 4, 4\n",
    "\n",
    "for i in range(rows * cols):\n",
    "    random_index = torch.randint(0, len(train_data), size=[1]).item()\n",
    "    image, label = train_data[random_index]\n",
    "    fig.add_subplot(rows, cols, i + 1)\n",
    "    plt.imshow(image.squeeze(), cmap=\"gray\")\n",
    "    plt.title(class_names[label])\n",
    "    plt.axis(False)"
   ]
  },
  {
   "cell_type": "markdown",
   "metadata": {},
   "source": [
    "## 2. Prepara dataloader"
   ]
  },
  {
   "cell_type": "code",
   "execution_count": 12,
   "metadata": {},
   "outputs": [],
   "source": [
    "BATCH_SIZE = 32\n",
    "\n",
    "train_dataloader = DataLoader(dataset=train_data, batch_size=BATCH_SIZE, shuffle=True)\n",
    "test_dataloader = DataLoader(dataset=test_data, batch_size=BATCH_SIZE, shuffle=False)"
   ]
  },
  {
   "cell_type": "markdown",
   "metadata": {},
   "source": [
    "# 3. Model\n",
    "### 3.0 linear model\n",
    "\n",
    "When starting to build a series of machine learning modelling experiments, it's good practice to start with a baseline model.\n",
    "\n",
    "Baseline model is a simple model, that will be improved over subsequent experiments."
   ]
  },
  {
   "cell_type": "code",
   "execution_count": 13,
   "metadata": {},
   "outputs": [
    {
     "data": {
      "text/plain": [
       "(FashionMnistModelV0(\n",
       "   (layers): Sequential(\n",
       "     (0): Flatten(start_dim=1, end_dim=-1)\n",
       "     (1): Linear(in_features=784, out_features=512, bias=True)\n",
       "     (2): Linear(in_features=512, out_features=10, bias=True)\n",
       "   )\n",
       " ),\n",
       " True)"
      ]
     },
     "execution_count": 13,
     "metadata": {},
     "output_type": "execute_result"
    }
   ],
   "source": [
    "class FashionMnistModelV0(nn.Module):\n",
    "    def __init__(self, input_shape: int, hidden_units: int, output_shape: int):\n",
    "        super().__init__()\n",
    "\n",
    "        self.layers = nn.Sequential(\n",
    "            nn.Flatten(),\n",
    "            nn.Linear(in_features=input_shape, out_features=hidden_units),\n",
    "            nn.Linear(in_features=hidden_units, out_features=output_shape),\n",
    "        )\n",
    "\n",
    "    def forward(self, x):\n",
    "        return self.layers(x)\n",
    "\n",
    "\n",
    "torch.manual_seed = 42\n",
    "model_0 = FashionMnistModelV0(input_shape=(28 * 28), hidden_units=512, output_shape=10)\n",
    "model_0 = model_0.to(device)\n",
    "model_0, next(model_0.parameters()).is_cuda"
   ]
  },
  {
   "cell_type": "markdown",
   "metadata": {},
   "source": [
    "### 3.1 setting up optimizer, loss and classification metric"
   ]
  },
  {
   "cell_type": "code",
   "execution_count": 14,
   "metadata": {},
   "outputs": [],
   "source": [
    "loss_fn = torch.nn.CrossEntropyLoss()\n",
    "optimizer = torch.optim.SGD(params=model_0.parameters(), lr=0.03)\n",
    "metric = F1Score(task=\"multiclass\", num_classes=10).to(device)"
   ]
  },
  {
   "cell_type": "markdown",
   "metadata": {},
   "source": [
    "### 3.2 Creating a function to time experiments"
   ]
  },
  {
   "cell_type": "code",
   "execution_count": 15,
   "metadata": {},
   "outputs": [],
   "source": [
    "def print_train_time(start: float, end: float, device: torch.device = None):\n",
    "    print(\"nothing\")\n",
    "    \"\"\"Prints diffrence between start and end time.\"\"\"\n",
    "    total_time = end - start\n",
    "    print(f\"Train time on {device}: {total_time:.3f} seconds\")\n",
    "    return total_time"
   ]
  },
  {
   "cell_type": "code",
   "execution_count": 16,
   "metadata": {},
   "outputs": [
    {
     "name": "stdout",
     "output_type": "stream",
     "text": [
      "nothing\n",
      "Train time on cpu: 0.000 seconds\n"
     ]
    },
    {
     "data": {
      "text/plain": [
       "1.5046000044094399e-05"
      ]
     },
     "execution_count": 16,
     "metadata": {},
     "output_type": "execute_result"
    }
   ],
   "source": [
    "start_time = timer()\n",
    "end_time = timer()\n",
    "print_train_time(start_time, end_time, device=\"cpu\")"
   ]
  },
  {
   "cell_type": "markdown",
   "metadata": {},
   "source": [
    "### 3.3 creating a training lool and training model on batches of data"
   ]
  },
  {
   "cell_type": "code",
   "execution_count": 17,
   "metadata": {},
   "outputs": [],
   "source": [
    "# epochs = 1\n",
    "\n",
    "# for epoch in range(epochs):\n",
    "#     for data, labels in train_dataloader:\n",
    "#         model_0.train()\n",
    "#         data = data.to(device)\n",
    "#         labels = labels.to(device)\n",
    "\n",
    "#         # training\n",
    "#         logits = model_0(data)\n",
    "#         loss = loss_fn(logits, labels)\n",
    "#         optimizer.zero_grad()\n",
    "#         loss.backward()\n",
    "#         optimizer.step()\n",
    "\n",
    "#     # evaluation\n",
    "#     if epoch % 1 == 0:\n",
    "#         model_0.eval()\n",
    "#         with torch.inference_mode():\n",
    "#             avg_test_loss = 0\n",
    "#             avg_test_F1Score = 0\n",
    "\n",
    "#             for data, labels in test_dataloader:\n",
    "#                 data = data.to(device)\n",
    "#                 labels = labels.to(device)\n",
    "\n",
    "#                 test_logits = model_0(data)\n",
    "#                 avg_test_loss += loss_fn(test_logits, labels)\n",
    "#                 predictions = torch.argmax(torch.softmax(test_logits, dim=1), dim=1)\n",
    "#                 avg_test_F1Score += metric(preds=predictions, target=labels)\n",
    "\n",
    "#             avg_test_loss = avg_test_loss / len(test_dataloader)\n",
    "#             avg_test_F1Score = avg_test_F1Score / len(test_dataloader)\n",
    "#             print(\n",
    "#                 f\"epoch: {epoch} | F1Score: {avg_test_F1Score} | loss: {avg_test_loss}\"\n",
    "#             )"
   ]
  },
  {
   "cell_type": "markdown",
   "metadata": {},
   "source": [
    "# 4 Evaluate model"
   ]
  },
  {
   "cell_type": "code",
   "execution_count": 18,
   "metadata": {},
   "outputs": [],
   "source": [
    "def eval_model(\n",
    "    model: nn.Module,\n",
    "    data_loader: torch.utils.data.DataLoader,\n",
    "    loss_fn: nn.Module,\n",
    "    eval_fn,\n",
    "):\n",
    "    \"\"\"Returns a dictionary of results of model evaluation\"\"\"\n",
    "    model = model.to(device)\n",
    "    model.eval()\n",
    "    with torch.inference_mode():\n",
    "        score = 0\n",
    "        loss = 0\n",
    "        loops = 0\n",
    "\n",
    "        for X, y in data_loader:\n",
    "            loops += 1\n",
    "            X = X.to(device)\n",
    "            y = y.to(device)\n",
    "\n",
    "            logits = model(X)\n",
    "            loss += loss_fn(logits, y)\n",
    "            predictions = torch.argmax(torch.softmax(logits, dim=1), dim=1)\n",
    "            score += eval_fn(preds=predictions, target=y).item()\n",
    "\n",
    "        if loops == 0:\n",
    "            return None\n",
    "        score = score / loops\n",
    "        loss = loss / loops\n",
    "        name = model.__class__.__name__\n",
    "        return {\"model\": name, \"score\": score, \"loss\": loss.item()}"
   ]
  },
  {
   "cell_type": "code",
   "execution_count": 19,
   "metadata": {},
   "outputs": [],
   "source": [
    "# results = eval_model(\n",
    "#     model=model_0, data_loader=train_dataloader, loss_fn=loss_fn, eval_fn=metric\n",
    "# )\n",
    "# results"
   ]
  },
  {
   "cell_type": "markdown",
   "metadata": {},
   "source": [
    "# 5. Building a nonlinear model"
   ]
  },
  {
   "cell_type": "markdown",
   "metadata": {},
   "source": [
    "### 5.1 Creating a model"
   ]
  },
  {
   "cell_type": "code",
   "execution_count": 20,
   "metadata": {},
   "outputs": [
    {
     "data": {
      "text/plain": [
       "(FashionMnistModelV1(\n",
       "   (layers): Sequential(\n",
       "     (0): Flatten(start_dim=1, end_dim=-1)\n",
       "     (1): Linear(in_features=784, out_features=512, bias=True)\n",
       "     (2): ReLU()\n",
       "     (3): Linear(in_features=512, out_features=512, bias=True)\n",
       "     (4): ReLU()\n",
       "     (5): Linear(in_features=512, out_features=10, bias=True)\n",
       "   )\n",
       " ),\n",
       " device(type='cuda', index=0))"
      ]
     },
     "execution_count": 20,
     "metadata": {},
     "output_type": "execute_result"
    }
   ],
   "source": [
    "class FashionMnistModelV1(nn.Module):\n",
    "    def __init__(self, in_features: int, hidden_units: int, out_features: int):\n",
    "        super().__init__()\n",
    "\n",
    "        self.layers = nn.Sequential(\n",
    "            nn.Flatten(),\n",
    "            nn.Linear(in_features=in_features, out_features=hidden_units),\n",
    "            nn.ReLU(),\n",
    "            nn.Linear(in_features=hidden_units, out_features=hidden_units),\n",
    "            nn.ReLU(),\n",
    "            nn.Linear(in_features=hidden_units, out_features=out_features),\n",
    "        )\n",
    "\n",
    "    def forward(self, x):\n",
    "        return self.layers(x)\n",
    "\n",
    "\n",
    "model_1 = FashionMnistModelV1(\n",
    "    in_features=(28 * 28), hidden_units=512, out_features=10\n",
    ").to(device)\n",
    "model_1, next(model_1.parameters()).device"
   ]
  },
  {
   "cell_type": "markdown",
   "metadata": {},
   "source": [
    "### 5.2 Defining loss, optimizer and evaluation"
   ]
  },
  {
   "cell_type": "code",
   "execution_count": 21,
   "metadata": {},
   "outputs": [],
   "source": [
    "loss_fn = torch.nn.CrossEntropyLoss()\n",
    "optimizer_1 = torch.optim.SGD(params=model_1.parameters(), lr=0.01)\n",
    "eval_fn = F1Score(task=\"multiclass\", num_classes=10).to(device)"
   ]
  },
  {
   "cell_type": "markdown",
   "metadata": {},
   "source": [
    "### 5.3 Training and testing"
   ]
  },
  {
   "cell_type": "code",
   "execution_count": 22,
   "metadata": {},
   "outputs": [],
   "source": [
    "def train_step(\n",
    "    model: nn.Module, loss_fn: nn.Module, optimizer, train_dataloader: DataLoader\n",
    "):\n",
    "    avg_loss = 0\n",
    "\n",
    "    model.to(device)\n",
    "    model.train()\n",
    "\n",
    "    for data, labels in train_dataloader:\n",
    "        data = data.to(device)\n",
    "        labels = labels.to(device)\n",
    "\n",
    "        # training\n",
    "        logits = model(data)\n",
    "        loss = loss_fn(logits, labels)\n",
    "        avg_loss += loss.item()\n",
    "        optimizer.zero_grad()\n",
    "        loss.backward()\n",
    "        optimizer.step()\n",
    "\n",
    "    if len(train_dataloader) == 0:\n",
    "        return None\n",
    "    avg_loss = avg_loss / len(train_dataloader)\n",
    "    return avg_loss"
   ]
  },
  {
   "cell_type": "code",
   "execution_count": 23,
   "metadata": {},
   "outputs": [],
   "source": [
    "def test_step(\n",
    "    model: nn.Module, loss_fn: nn.Module, eval_fn, test_dataloader: DataLoader\n",
    "):\n",
    "    model.to(device)\n",
    "    model.eval()\n",
    "    with torch.inference_mode():\n",
    "        avg_loss = 0\n",
    "        avg_eval = 0\n",
    "\n",
    "        for data, labels in test_dataloader:\n",
    "            data = data.to(device)\n",
    "            labels = labels.to(device)\n",
    "\n",
    "            test_logits = model(data)\n",
    "            test_loss = loss_fn(test_logits, labels)\n",
    "            avg_loss += test_loss.item()\n",
    "            predictions = torch.argmax(torch.softmax(test_logits, dim=1), dim=1)\n",
    "            avg_eval += eval_fn(preds=predictions, target=labels).item()\n",
    "\n",
    "        if len(test_dataloader) == 0:\n",
    "            return None\n",
    "\n",
    "        avg_loss = avg_loss / len(test_dataloader)\n",
    "        avg_eval = avg_eval / len(test_dataloader)\n",
    "\n",
    "        return (avg_loss, avg_eval)"
   ]
  },
  {
   "cell_type": "code",
   "execution_count": 24,
   "metadata": {},
   "outputs": [],
   "source": [
    "# epochs = 10\n",
    "\n",
    "# for epoch in tqdm(range(epochs)):\n",
    "#     train_loss = train_step(model_1, loss_fn, optimizer_1, train_dataloader)\n",
    "    \n",
    "#     if epoch % 4 == 0:\n",
    "#         test_loss, test_score = test_step(model_1, loss_fn, eval_fn, test_dataloader)\n",
    "#         print(f\"training loss: {train_loss} | testing loss: { test_loss} | testing F1Score: {test_score}\")"
   ]
  },
  {
   "cell_type": "markdown",
   "metadata": {},
   "source": [
    "### 5.4 Evaluation"
   ]
  },
  {
   "cell_type": "code",
   "execution_count": 25,
   "metadata": {},
   "outputs": [],
   "source": [
    "# evaluation = eval_model(\n",
    "#     model=model_1, data_loader=test_dataloader, loss_fn=loss_fn, eval_fn=eval_fn\n",
    "# )\n",
    "# evaluation"
   ]
  },
  {
   "cell_type": "markdown",
   "metadata": {},
   "source": [
    "# 6. Convolutional neural network"
   ]
  },
  {
   "cell_type": "code",
   "execution_count": 26,
   "metadata": {},
   "outputs": [],
   "source": [
    "class FashionMnistModelV2(nn.Module):\n",
    "    def __init__(\n",
    "        self,\n",
    "        channels: int,\n",
    "        no_of_feature_maps:int,\n",
    "        height:int,\n",
    "        width:int,\n",
    "        hidden_units_0: int,\n",
    "        hidden_units_1: int,\n",
    "        output_shape: int,\n",
    "    ):\n",
    "        super().__init__()\n",
    "\n",
    "        self.conv_layers = nn.Sequential(\n",
    "            nn.Conv2d(channels, no_of_feature_maps, kernel_size=5, stride=1, padding=2),\n",
    "            nn.AvgPool2d(kernel_size=3, stride = 2, padding = 1),\n",
    "        )\n",
    "\n",
    "        pooling_output_size = 12544\n",
    "        \n",
    "        self.deep_layers = nn.Sequential(\n",
    "            nn.Flatten(),\n",
    "            nn.Linear(pooling_output_size, hidden_units_0),\n",
    "            nn.ReLU(),\n",
    "            nn.Dropout(p=0.5),\n",
    "            nn.Linear(hidden_units_0, hidden_units_1),\n",
    "            nn.ReLU(),\n",
    "            nn.Dropout(p=0.5),\n",
    "            nn.Linear(hidden_units_1, output_shape),\n",
    "        )       \n",
    "\n",
    "    def forward(self, x):\n",
    "        return self.deep_layers(self.conv_layers(x))\n",
    "\n",
    "model_2 = FashionMnistModelV2(\n",
    "    channels=1, no_of_feature_maps=64, height=28, width=28, hidden_units_0=1024, hidden_units_1=256, output_shape=10\n",
    ").to(device)"
   ]
  },
  {
   "cell_type": "code",
   "execution_count": 27,
   "metadata": {},
   "outputs": [],
   "source": [
    "loss_fn = torch.nn.CrossEntropyLoss()\n",
    "optimizer_2 = torch.optim.SGD(params=model_2.parameters(), lr=0.01)\n",
    "eval_fn = F1Score(task=\"multiclass\", num_classes=10).to(device)"
   ]
  },
  {
   "cell_type": "code",
   "execution_count": 28,
   "metadata": {},
   "outputs": [
    {
     "data": {
      "text/plain": [
       "{'model': 'FashionMnistModelV2',\n",
       " 'score': 0.10283546325878594,\n",
       " 'loss': 2.3067290782928467}"
      ]
     },
     "execution_count": 28,
     "metadata": {},
     "output_type": "execute_result"
    }
   ],
   "source": [
    "evaluation = eval_model(\n",
    "    model=model_2, data_loader=test_dataloader, loss_fn=loss_fn, eval_fn=eval_fn\n",
    ")\n",
    "evaluation"
   ]
  },
  {
   "cell_type": "code",
   "execution_count": 29,
   "metadata": {},
   "outputs": [
    {
     "name": "stderr",
     "output_type": "stream",
     "text": [
      "  3%|▎         | 1/30 [00:05<02:41,  5.58s/it]"
     ]
    },
    {
     "name": "stdout",
     "output_type": "stream",
     "text": [
      "training loss: 0.8941945611159007 | testing loss: 0.6028495302405982 | testing F1Score: 0.7678714057507987\n"
     ]
    },
    {
     "name": "stderr",
     "output_type": "stream",
     "text": [
      " 17%|█▋        | 5/30 [00:27<02:29,  5.97s/it]"
     ]
    },
    {
     "name": "stdout",
     "output_type": "stream",
     "text": [
      "training loss: 0.45712145078579586 | testing loss: 0.42928996051367097 | testing F1Score: 0.8412539936102237\n"
     ]
    },
    {
     "name": "stderr",
     "output_type": "stream",
     "text": [
      " 30%|███       | 9/30 [00:46<01:47,  5.14s/it]"
     ]
    },
    {
     "name": "stdout",
     "output_type": "stream",
     "text": [
      "training loss: 0.386888679254055 | testing loss: 0.3819569709201971 | testing F1Score: 0.8619209265175719\n"
     ]
    },
    {
     "name": "stderr",
     "output_type": "stream",
     "text": [
      " 43%|████▎     | 13/30 [01:09<01:35,  5.59s/it]"
     ]
    },
    {
     "name": "stdout",
     "output_type": "stream",
     "text": [
      "training loss: 0.353510047964255 | testing loss: 0.3561279111134168 | testing F1Score: 0.8705071884984026\n"
     ]
    },
    {
     "name": "stderr",
     "output_type": "stream",
     "text": [
      " 57%|█████▋    | 17/30 [01:27<01:05,  5.04s/it]"
     ]
    },
    {
     "name": "stdout",
     "output_type": "stream",
     "text": [
      "training loss: 0.32719960638483364 | testing loss: 0.3413002816454385 | testing F1Score: 0.8764976038338658\n"
     ]
    },
    {
     "name": "stderr",
     "output_type": "stream",
     "text": [
      " 70%|███████   | 21/30 [01:50<00:47,  5.25s/it]"
     ]
    },
    {
     "name": "stdout",
     "output_type": "stream",
     "text": [
      "training loss: 0.3077080440898736 | testing loss: 0.3257477607566137 | testing F1Score: 0.8848841853035144\n"
     ]
    },
    {
     "name": "stderr",
     "output_type": "stream",
     "text": [
      " 83%|████████▎ | 25/30 [02:12<00:30,  6.05s/it]"
     ]
    },
    {
     "name": "stdout",
     "output_type": "stream",
     "text": [
      "training loss: 0.2974682608147462 | testing loss: 0.3168509917946669 | testing F1Score: 0.8881789137380192\n"
     ]
    },
    {
     "name": "stderr",
     "output_type": "stream",
     "text": [
      " 97%|█████████▋| 29/30 [02:32<00:05,  5.11s/it]"
     ]
    },
    {
     "name": "stdout",
     "output_type": "stream",
     "text": [
      "training loss: 0.2813777899245421 | testing loss: 0.3100445957991262 | testing F1Score: 0.8912739616613419\n"
     ]
    },
    {
     "name": "stderr",
     "output_type": "stream",
     "text": [
      "100%|██████████| 30/30 [02:36<00:00,  5.21s/it]"
     ]
    },
    {
     "name": "stdout",
     "output_type": "stream",
     "text": [
      "Training time: 2 minutes, 24.70 seconds\n"
     ]
    },
    {
     "name": "stderr",
     "output_type": "stream",
     "text": [
      "\n"
     ]
    }
   ],
   "source": [
    "epochs = 30\n",
    "time_begin = timer()\n",
    "\n",
    "for epoch in tqdm(range(epochs)):\n",
    "    train_loss = train_step(model_2, loss_fn, optimizer_2, train_dataloader)\n",
    "    \n",
    "    if epoch % 4 == 0:\n",
    "        test_loss, test_score = test_step(model_2, loss_fn, eval_fn, test_dataloader)\n",
    "        print(f\"training loss: {train_loss} | testing loss: { test_loss} | testing F1Score: {test_score}\")\n",
    "\n",
    "time_end = timer()\n",
    "tme_elapsed = time_end - time_begin\n",
    "\n",
    "minutes = int(tme_elapsed // 60)\n",
    "seconds = tme_elapsed % 60 \n",
    "\n",
    "print(f\"Training time: {minutes} minutes, {seconds:.2f} seconds\")"
   ]
  },
  {
   "cell_type": "code",
   "execution_count": 30,
   "metadata": {},
   "outputs": [
    {
     "data": {
      "text/plain": [
       "{'model': 'FashionMnistModelV2',\n",
       " 'score': 0.8902755591054313,\n",
       " 'loss': 0.3050668239593506}"
      ]
     },
     "execution_count": 30,
     "metadata": {},
     "output_type": "execute_result"
    }
   ],
   "source": [
    "evaluation = eval_model(\n",
    "    model=model_2, data_loader=test_dataloader, loss_fn=loss_fn, eval_fn=eval_fn\n",
    ")\n",
    "evaluation"
   ]
  },
  {
   "cell_type": "markdown",
   "metadata": {},
   "source": [
    "# 7. Making a confusion matrix"
   ]
  },
  {
   "cell_type": "code",
   "execution_count": 31,
   "metadata": {},
   "outputs": [
    {
     "name": "stderr",
     "output_type": "stream",
     "text": [
      "100%|██████████| 313/313 [00:00<00:00, 723.51it/s]\n"
     ]
    },
    {
     "data": {
      "text/plain": [
       "(torch.Size([10000]), 10000, tensor([9, 2, 1,  ..., 8, 1, 5], device='cuda:0'))"
      ]
     },
     "execution_count": 31,
     "metadata": {},
     "output_type": "execute_result"
    }
   ],
   "source": [
    "y_preds = []\n",
    "model_2.eval()\n",
    "with torch.inference_mode():\n",
    "    avg_loss = 0\n",
    "    avg_acc = 0\n",
    "    acc_fn = Accuracy(task = \"multiclass\", num_classes=10).to(device)\n",
    "\n",
    "    for X, y in tqdm(test_dataloader):\n",
    "        X = X.to(device)\n",
    "        y = y.to(device)\n",
    "\n",
    "        test_logits = model_2(X)\n",
    "        prediction = torch.softmax(test_logits, dim=1).argmax(dim=1)\n",
    "        y_preds.append(prediction)\n",
    "\n",
    "predictions_tensor = torch.cat(y_preds)\n",
    "predictions_tensor.shape, len(predictions_tensor), predictions_tensor"
   ]
  },
  {
   "cell_type": "code",
   "execution_count": 32,
   "metadata": {},
   "outputs": [
    {
     "data": {
      "text/plain": [
       "Dataset FashionMNIST\n",
       "    Number of datapoints: 10000\n",
       "    Root location: data\n",
       "    Split: Test\n",
       "    StandardTransform\n",
       "Transform: ToTensor()"
      ]
     },
     "execution_count": 32,
     "metadata": {},
     "output_type": "execute_result"
    }
   ],
   "source": [
    "test_data"
   ]
  },
  {
   "cell_type": "code",
   "execution_count": 33,
   "metadata": {},
   "outputs": [
    {
     "data": {
      "text/plain": [
       "tensor([[876,   1,  15,  16,   4,   2,  79,   0,   7,   0],\n",
       "        [  4, 969,   2,  19,   3,   1,   1,   0,   1,   0],\n",
       "        [ 15,   0, 775,  10, 109,   0,  90,   0,   1,   0],\n",
       "        [ 26,   6,   9, 897,  33,   0,  23,   0,   6,   0],\n",
       "        [  0,   1,  72,  33, 840,   0,  53,   0,   1,   0],\n",
       "        [  0,   0,   0,   0,   0, 969,   0,  20,   0,  11],\n",
       "        [148,   2,  70,  24,  66,   0, 680,   0,  10,   0],\n",
       "        [  0,   0,   0,   0,   0,  18,   0, 956,   1,  25],\n",
       "        [  2,   0,   5,   4,   3,   4,   1,   4, 977,   0],\n",
       "        [  0,   0,   0,   0,   0,   6,   1,  31,   0, 962]], device='cuda:0')"
      ]
     },
     "execution_count": 33,
     "metadata": {},
     "output_type": "execute_result"
    }
   ],
   "source": [
    "metric = ConfusionMatrix(task=\"multiclass\", num_classes=10).to(device)\n",
    "target = torch.tensor([label for _, label in test_data]).to(device)\n",
    "matrix = metric(target=target, preds=predictions_tensor)\n",
    "matrix"
   ]
  },
  {
   "cell_type": "code",
   "execution_count": 34,
   "metadata": {},
   "outputs": [
    {
     "data": {
      "image/png": "[encoded data removed]",
      "text/plain": [
       "<Figure size 1000x700 with 2 Axes>"
      ]
     },
     "metadata": {},
     "output_type": "display_data"
    }
   ],
   "source": [
    "# generated with chatGPT\n",
    "\n",
    "confusion_matrix = matrix.cpu().numpy()\n",
    "\n",
    "# Assuming class_to_idx is available from your dataset\n",
    "class_to_idx = train_data.class_to_idx\n",
    "idx_to_class = {v: k for k, v in class_to_idx.items()}  # Reverse the mapping to get index-to-class mapping\n",
    "class_names = [idx_to_class[i] for i in range(len(idx_to_class))]  # Class names in order of indices\n",
    "\n",
    "# Plotting the confusion matrix\n",
    "plt.figure(figsize=(10, 7))\n",
    "plt.imshow(confusion_matrix, interpolation='nearest', cmap='Blues')\n",
    "plt.title('Confusion Matrix')\n",
    "plt.colorbar()\n",
    "\n",
    "# Add tick marks and labels with class names\n",
    "tick_marks = np.arange(len(class_names))\n",
    "plt.xticks(tick_marks, class_names, rotation=45, ha='right')  # Rotate x-labels for better readability\n",
    "plt.yticks(tick_marks, class_names)\n",
    "\n",
    "# Optional: Add numbers to the squares\n",
    "thresh = confusion_matrix.max() / 2.  # For choosing text color\n",
    "for i in range(confusion_matrix.shape[0]):\n",
    "    for j in range(confusion_matrix.shape[1]):\n",
    "        plt.text(j, i, format(confusion_matrix[i, j], 'd'),\n",
    "                 ha=\"center\", va=\"center\",\n",
    "                 color=\"white\" if confusion_matrix[i, j] > thresh else \"black\")\n",
    "\n",
    "plt.xlabel('Predicted Label')\n",
    "plt.ylabel('True Label')\n",
    "plt.tight_layout()\n",
    "plt.show()"
   ]
  },
  {
   "cell_type": "code",
   "execution_count": 35,
   "metadata": {},
   "outputs": [
    {
     "data": {
      "image/png": "[encoded data removed]",
      "text/plain": [
       "<Figure size 1000x700 with 1 Axes>"
      ]
     },
     "metadata": {},
     "output_type": "display_data"
    }
   ],
   "source": [
    "# From the course\n",
    "fig, ax = plot_confusion_matrix(\n",
    "    conf_mat=matrix.cpu().numpy(),\n",
    "    class_names = class_names,\n",
    "    figsize=(10,7)\n",
    ")"
   ]
  },
  {
   "cell_type": "markdown",
   "metadata": {},
   "source": [
    "# 8. Saving model"
   ]
  },
  {
   "cell_type": "code",
   "execution_count": 37,
   "metadata": {},
   "outputs": [],
   "source": [
    "MODEL_PATH = Path(\"models\")\n",
    "MODEL_PATH.mkdir(parents=True, exist_ok=True)\n",
    "\n",
    "MODEL_NAME = \"conv_model_MNIST_FASHION.pth\"\n",
    "MODEL_SAVE_PATH = MODEL_PATH / MODEL_NAME\n",
    "\n",
    "torch.save(obj=model_1.state_dict(), f=MODEL_SAVE_PATH)"
   ]
  },
  {
   "cell_type": "markdown",
   "metadata": {},
   "source": [
    "# 9. Loading model"
   ]
  },
  {
   "cell_type": "code",
   "execution_count": 39,
   "metadata": {},
   "outputs": [
    {
     "data": {
      "text/plain": [
       "OrderedDict([('layers.1.weight',\n",
       "              tensor([[-0.0040,  0.0273,  0.0250,  ..., -0.0327,  0.0075, -0.0238],\n",
       "                      [-0.0207, -0.0351, -0.0048,  ...,  0.0029,  0.0009,  0.0299],\n",
       "                      [-0.0062,  0.0285, -0.0020,  ...,  0.0220,  0.0109,  0.0139],\n",
       "                      ...,\n",
       "                      [-0.0265,  0.0205, -0.0011,  ...,  0.0166,  0.0272,  0.0029],\n",
       "                      [-0.0101,  0.0348,  0.0237,  ..., -0.0098,  0.0067, -0.0130],\n",
       "                      [ 0.0316, -0.0155, -0.0177,  ...,  0.0100, -0.0191, -0.0302]],\n",
       "                     device='cuda:0')),\n",
       "             ('layers.1.bias',\n",
       "              tensor([-1.4115e-02,  1.0305e-02,  8.7029e-03,  4.9921e-03,  4.9764e-03,\n",
       "                      -1.3071e-02,  2.4260e-02, -1.5250e-02,  4.2190e-03, -3.2239e-02,\n",
       "                      -2.3505e-02, -1.4870e-02,  1.3927e-02,  7.2778e-04, -2.8172e-02,\n",
       "                       1.9877e-02, -3.6006e-03,  2.2847e-02,  3.3314e-02, -1.8940e-02,\n",
       "                      -1.3902e-02,  2.5068e-02, -1.1281e-02, -2.8347e-02, -1.7127e-02,\n",
       "                      -2.1771e-02,  2.3929e-02,  8.4004e-03,  2.5755e-02,  1.8991e-02,\n",
       "                       1.1934e-02, -3.5225e-02, -7.4417e-03,  2.8303e-02,  1.1467e-02,\n",
       "                       1.6508e-02, -3.0992e-03,  3.3248e-02,  8.7231e-03,  1.7484e-02,\n",
       "                       2.9805e-03, -3.5571e-02,  3.2422e-02,  3.3412e-02,  1.5147e-02,\n",
       "                       1.1122e-02, -3.4569e-02, -1.1203e-02, -7.7010e-03, -3.3586e-03,\n",
       "                       1.1206e-02,  2.8990e-02, -2.5751e-02, -2.5293e-03,  2.7987e-03,\n",
       "                       1.8982e-03, -1.4344e-02, -5.4724e-03, -2.4345e-02, -8.7099e-03,\n",
       "                      -1.9947e-02,  3.3394e-02, -1.8709e-02, -1.7245e-02, -3.0896e-02,\n",
       "                       2.6224e-02, -1.2752e-02,  3.4512e-03, -1.0472e-02, -3.5385e-02,\n",
       "                      -2.6969e-02, -3.5036e-03,  6.3935e-03, -6.3325e-03,  1.6659e-02,\n",
       "                       2.7719e-02, -1.9757e-02, -1.6276e-02, -2.0560e-02,  1.5174e-02,\n",
       "                      -3.1481e-02, -2.8462e-03, -1.9569e-02,  1.6621e-02,  8.1755e-03,\n",
       "                      -3.2520e-02, -2.5154e-02,  3.1240e-02,  1.3225e-02, -2.6267e-02,\n",
       "                      -7.2831e-04,  7.7985e-03, -8.2386e-03, -1.8241e-02,  2.6204e-02,\n",
       "                      -2.1420e-02,  2.3838e-02, -1.8278e-02,  3.6685e-04,  2.7593e-02,\n",
       "                       2.0267e-02, -2.6589e-03,  3.4277e-02,  3.2238e-02,  4.0288e-03,\n",
       "                      -4.5852e-03,  2.2005e-02,  1.2118e-02,  1.2584e-02,  2.6842e-02,\n",
       "                       2.3329e-02, -3.1189e-02,  1.5536e-02, -1.0198e-02, -4.6829e-03,\n",
       "                       2.9698e-02, -1.5049e-02, -2.7472e-02,  2.9749e-02,  4.1104e-03,\n",
       "                      -2.7654e-02,  2.2013e-02,  7.5088e-03, -9.3747e-03,  2.2863e-02,\n",
       "                       7.9098e-03, -1.6051e-02, -9.7775e-03, -7.7283e-03,  1.1066e-02,\n",
       "                       3.1414e-02,  2.7615e-02, -1.5526e-02, -2.3286e-02, -3.3739e-02,\n",
       "                       1.2456e-02,  2.9321e-02, -2.8603e-03, -2.7453e-02,  4.6503e-03,\n",
       "                      -2.9301e-02,  3.1841e-02,  1.0643e-02,  1.0123e-02,  1.4013e-03,\n",
       "                       3.3500e-02, -4.9117e-03, -4.0189e-03,  1.4120e-02,  6.1583e-03,\n",
       "                       1.6203e-02, -1.5070e-02,  2.4359e-02, -2.7205e-02, -5.2187e-03,\n",
       "                       8.1786e-03, -5.0900e-03, -1.1081e-02,  3.2747e-02,  3.8160e-03,\n",
       "                      -1.5643e-02, -1.8770e-02, -8.6483e-03, -2.5939e-02, -2.3329e-02,\n",
       "                       1.3130e-02, -2.8446e-02,  2.1573e-02,  1.9901e-02,  2.8560e-02,\n",
       "                      -2.2736e-02, -2.0838e-02,  1.4986e-02, -1.7191e-02,  7.8010e-03,\n",
       "                       3.4600e-02, -9.5367e-07,  2.1463e-02, -2.6775e-02,  5.8421e-03,\n",
       "                      -6.9230e-03, -3.1798e-02,  2.1673e-02, -1.3424e-02,  4.9973e-03,\n",
       "                       3.0248e-02, -3.2478e-02,  3.1107e-02, -8.5777e-04,  2.2207e-02,\n",
       "                       4.5653e-03, -1.6483e-02, -1.5846e-02, -7.2200e-03,  2.7358e-02,\n",
       "                       2.0107e-02,  2.1929e-02, -1.7333e-02,  2.1407e-02, -2.7099e-02,\n",
       "                       3.0237e-02,  3.6411e-03, -3.4937e-02, -5.0037e-03, -7.8045e-03,\n",
       "                       7.1525e-03,  2.0596e-02, -5.4318e-03, -4.6627e-03,  3.2803e-02,\n",
       "                       2.3820e-02, -1.4824e-02, -2.5400e-02,  1.5434e-02,  6.4142e-03,\n",
       "                      -2.9895e-02, -2.8244e-02, -1.1359e-02,  7.2462e-03, -1.7742e-02,\n",
       "                      -3.2552e-02, -1.5441e-02, -1.0828e-02,  2.9556e-02,  1.6490e-02,\n",
       "                       1.1237e-02,  3.2359e-02, -1.1788e-02,  7.8937e-03, -5.7013e-03,\n",
       "                       3.2705e-02,  4.2932e-03,  1.5204e-02,  3.3857e-02,  1.4741e-02,\n",
       "                      -3.0160e-02,  1.4627e-02, -2.9820e-02, -2.3422e-02, -3.0322e-02,\n",
       "                      -3.3699e-02,  1.5867e-02, -3.3781e-02, -9.5496e-03,  4.9187e-03,\n",
       "                      -7.9537e-03,  2.2956e-02,  1.4702e-02,  3.0588e-02, -1.2065e-02,\n",
       "                       6.0922e-03, -3.3511e-02,  2.9642e-02,  2.5151e-02, -1.0561e-02,\n",
       "                       2.7038e-02, -2.8639e-02,  2.7055e-02,  1.5390e-02,  3.8756e-03,\n",
       "                      -3.2745e-04,  2.5518e-02, -1.0504e-03,  3.1288e-02, -6.7661e-03,\n",
       "                       1.5227e-03,  1.7948e-02,  1.8497e-02, -1.1482e-02,  4.1020e-03,\n",
       "                       1.4295e-02,  6.2274e-03,  2.2257e-02, -1.6513e-02,  2.9131e-02,\n",
       "                       3.5523e-02, -5.3160e-03,  1.5592e-02, -2.8975e-02, -2.0279e-02,\n",
       "                      -2.6829e-02,  2.2253e-02,  2.6243e-02,  2.1329e-02, -1.7900e-02,\n",
       "                      -1.4213e-02,  1.1803e-02,  1.7927e-02,  6.2392e-03, -7.5192e-03,\n",
       "                       1.5100e-02,  2.3061e-02, -1.0840e-02, -1.1284e-02,  1.5387e-02,\n",
       "                      -1.0533e-02, -2.8176e-02,  3.4885e-02,  2.9685e-02, -3.9183e-03,\n",
       "                      -5.9636e-03, -3.4021e-02, -1.5691e-02, -1.5827e-02, -2.0733e-02,\n",
       "                       2.5586e-02, -2.0693e-02, -2.6079e-02,  1.6409e-03, -8.6293e-03,\n",
       "                       3.4272e-02, -2.9389e-03,  1.9477e-02,  2.2443e-02,  1.0596e-03,\n",
       "                      -7.8298e-03,  2.7065e-02, -2.8060e-02, -2.0987e-02,  1.7513e-02,\n",
       "                       1.9495e-02,  2.7746e-02,  2.0446e-02,  5.4522e-03, -2.0019e-03,\n",
       "                       2.1367e-04, -2.7324e-03, -9.2725e-03,  9.7818e-04,  2.4709e-02,\n",
       "                      -2.3511e-02,  3.4975e-02,  1.4144e-02, -2.4066e-02,  1.8322e-02,\n",
       "                       2.7330e-02, -3.3570e-04, -1.3193e-02,  2.0161e-02,  2.7101e-02,\n",
       "                       2.7812e-02,  1.0341e-02, -2.6867e-02,  3.1570e-02,  1.2610e-02,\n",
       "                       6.4517e-03,  1.4465e-02, -7.0825e-03,  2.5487e-02,  2.0430e-02,\n",
       "                      -1.3251e-02,  1.2986e-02, -1.0141e-02, -3.5315e-02,  8.2385e-03,\n",
       "                       1.9848e-02,  1.8281e-02,  2.9634e-02,  1.8410e-02,  3.3328e-02,\n",
       "                      -2.1614e-02, -3.0019e-02, -9.1008e-03, -3.3296e-02,  1.6564e-02,\n",
       "                       2.1608e-02,  1.9942e-02, -1.0981e-02,  2.0682e-02, -1.7333e-02,\n",
       "                       1.0678e-02, -1.9007e-02, -1.1303e-03,  2.9216e-02, -2.5244e-02,\n",
       "                      -1.8069e-02,  8.7859e-04,  3.1221e-02,  2.6560e-04, -1.9671e-02,\n",
       "                      -9.2405e-03, -1.8692e-02, -1.4399e-02, -2.7363e-03, -2.9636e-02,\n",
       "                       4.8997e-03,  2.5323e-03,  1.1778e-02, -1.7865e-02,  3.4644e-02,\n",
       "                      -1.0663e-02,  2.0783e-02, -1.9758e-02, -2.0307e-03, -9.8920e-03,\n",
       "                      -2.1816e-03,  2.2168e-02,  2.0534e-02, -2.8435e-02, -1.3367e-02,\n",
       "                       2.0465e-02, -2.5557e-02,  1.7719e-02,  3.4740e-02,  2.5352e-02,\n",
       "                       5.7773e-04, -9.0973e-03,  1.5635e-02,  3.1443e-03, -3.3778e-02,\n",
       "                       2.6464e-02, -2.0055e-02, -2.7394e-02, -3.3177e-02,  1.2492e-02,\n",
       "                       3.5274e-02, -7.3974e-03,  8.2497e-03, -2.6753e-02,  1.3342e-02,\n",
       "                      -3.4781e-02, -8.1009e-03,  3.4128e-02,  1.0436e-02, -1.6927e-02,\n",
       "                       1.0495e-03,  1.0310e-03, -3.0938e-03, -2.7743e-02, -5.1923e-03,\n",
       "                       1.1964e-02,  6.4655e-04, -1.1654e-02, -6.2590e-03, -2.0677e-02,\n",
       "                      -5.3822e-03,  9.5079e-03,  1.7237e-02,  2.4448e-02, -1.1617e-03,\n",
       "                      -1.3399e-02,  2.4616e-02, -8.8627e-03,  2.8854e-02, -2.3495e-02,\n",
       "                      -1.1693e-02, -1.9782e-02, -1.0669e-02,  3.2448e-02, -2.2971e-02,\n",
       "                       1.7219e-02,  2.3044e-03, -1.7662e-02,  1.6847e-02, -3.4631e-02,\n",
       "                      -9.4687e-03,  5.7845e-03, -1.5202e-02, -8.4619e-03,  1.6217e-02,\n",
       "                       9.3430e-03, -2.6281e-02, -2.3201e-02,  1.9295e-02, -2.8108e-02,\n",
       "                       1.0901e-02,  9.8070e-04, -1.2449e-02, -3.0355e-03, -2.2781e-02,\n",
       "                      -9.4097e-03,  2.3534e-02, -3.1810e-02, -2.3832e-02,  3.1212e-02,\n",
       "                      -8.8012e-03,  2.8500e-02,  3.4394e-02,  3.4633e-02, -2.2364e-02,\n",
       "                      -3.1080e-02,  3.0820e-02,  9.4392e-03, -4.9219e-04, -1.6739e-02,\n",
       "                      -2.4847e-02, -3.0265e-02,  3.2510e-02,  2.4923e-02, -2.2696e-03,\n",
       "                      -9.9840e-03, -1.5277e-02, -9.7102e-03,  1.2016e-02,  2.2721e-02,\n",
       "                       1.9337e-02, -6.6236e-03, -2.4922e-02,  2.1303e-02,  2.7038e-02,\n",
       "                       9.6183e-03, -2.3343e-02,  2.5054e-02, -2.0085e-02,  1.1481e-02,\n",
       "                      -6.9906e-03, -1.6273e-02,  2.1731e-02, -3.0529e-02, -2.6581e-02,\n",
       "                      -2.0085e-02, -1.2041e-02], device='cuda:0')),\n",
       "             ('layers.3.weight',\n",
       "              tensor([[-0.0081, -0.0249,  0.0223,  ...,  0.0403, -0.0134, -0.0329],\n",
       "                      [-0.0217,  0.0208,  0.0119,  ..., -0.0058,  0.0374,  0.0390],\n",
       "                      [-0.0426,  0.0199,  0.0302,  ..., -0.0028, -0.0114, -0.0195],\n",
       "                      ...,\n",
       "                      [ 0.0031,  0.0382, -0.0316,  ...,  0.0337,  0.0277, -0.0102],\n",
       "                      [ 0.0384,  0.0087, -0.0269,  ...,  0.0109, -0.0346,  0.0257],\n",
       "                      [ 0.0080,  0.0016, -0.0138,  ..., -0.0059, -0.0411, -0.0075]],\n",
       "                     device='cuda:0')),\n",
       "             ('layers.3.bias',\n",
       "              tensor([ 1.4083e-02, -4.3649e-02,  2.6871e-02, -2.1990e-02,  2.6301e-02,\n",
       "                      -6.5024e-04, -3.8528e-02, -1.9648e-03, -2.3538e-02, -4.8161e-03,\n",
       "                      -1.0183e-02, -2.5751e-02, -6.4898e-03,  3.1077e-02, -3.4135e-02,\n",
       "                      -1.8057e-02,  2.9908e-02, -4.1108e-02,  3.5626e-02,  1.6030e-02,\n",
       "                       2.6195e-02, -1.0416e-02, -3.3085e-03,  2.9049e-02,  1.9482e-02,\n",
       "                       5.2322e-03,  1.8400e-02, -7.7605e-03,  1.7814e-02, -1.1204e-02,\n",
       "                      -2.9375e-02,  2.8497e-02, -3.0905e-02, -9.6077e-03, -1.9172e-02,\n",
       "                      -1.8716e-02, -3.4875e-02, -1.2215e-02,  9.2151e-03,  6.8037e-03,\n",
       "                       2.0319e-02,  3.3915e-02, -1.5642e-02, -3.9553e-02, -2.8520e-02,\n",
       "                      -3.6460e-02,  1.0839e-02, -1.5385e-03, -1.6640e-03,  9.9087e-03,\n",
       "                       3.5305e-02, -8.7283e-03, -2.6475e-02, -2.5457e-02,  2.5892e-02,\n",
       "                      -3.6828e-02, -2.3483e-02, -1.4880e-02,  2.1778e-03, -1.8257e-02,\n",
       "                      -3.7854e-02,  3.0904e-02, -1.3569e-03, -6.9749e-03,  2.8262e-02,\n",
       "                       1.7832e-02,  1.7266e-02, -8.8332e-03,  3.4463e-02,  2.5886e-02,\n",
       "                      -4.3193e-02,  3.0628e-02, -2.1567e-02,  4.3729e-02, -7.8693e-03,\n",
       "                      -2.1609e-03, -7.7205e-03, -1.8556e-03,  1.0559e-02,  4.1535e-02,\n",
       "                      -4.1385e-02, -1.8524e-02, -3.3450e-02, -3.4544e-02, -2.8326e-02,\n",
       "                       2.3137e-02,  3.4767e-02,  3.8161e-02, -1.8887e-02,  4.2019e-02,\n",
       "                      -3.1838e-03, -2.4911e-02,  3.9220e-02,  1.0102e-02, -2.4909e-02,\n",
       "                      -1.8000e-03, -9.3262e-03, -4.4458e-03,  1.8961e-05,  1.4594e-02,\n",
       "                       2.1860e-02,  1.5073e-02, -1.1519e-02, -1.3107e-02,  1.1514e-02,\n",
       "                       3.7602e-02,  3.3199e-02, -2.3365e-02,  4.1428e-02, -1.1035e-02,\n",
       "                       1.5596e-02, -2.5662e-02, -2.4957e-02,  1.1345e-02,  2.8366e-02,\n",
       "                      -1.1808e-03,  2.1435e-02,  3.5144e-02,  1.5116e-02,  3.3533e-02,\n",
       "                      -1.8987e-02, -3.1182e-02, -3.1783e-02, -2.1501e-02, -2.9504e-02,\n",
       "                      -2.7329e-02, -4.9770e-03, -1.5412e-02, -1.8306e-02,  1.5918e-03,\n",
       "                      -3.3901e-02,  3.6417e-02,  3.6507e-02, -1.7594e-02, -4.0155e-02,\n",
       "                       2.5746e-02,  4.2110e-02,  3.0819e-02, -5.1404e-03,  7.0913e-03,\n",
       "                      -1.2775e-02, -1.3382e-03,  3.3777e-02,  4.8597e-03, -3.4298e-02,\n",
       "                       2.1247e-03,  2.5502e-02,  2.3343e-02,  4.2882e-02, -1.5711e-02,\n",
       "                       9.9695e-03,  1.9522e-02,  4.2224e-02, -4.2325e-02, -3.1785e-02,\n",
       "                      -4.6199e-03, -4.3187e-02, -8.6714e-03,  1.0965e-02, -3.9020e-02,\n",
       "                      -2.0491e-02, -3.0291e-02,  1.0646e-03,  1.0827e-02,  2.1008e-02,\n",
       "                       1.5675e-02, -4.2124e-02, -3.3593e-02,  2.8256e-02, -3.7833e-02,\n",
       "                      -1.6360e-02, -1.1763e-02, -2.3018e-02, -1.1215e-02, -3.6946e-02,\n",
       "                      -3.9238e-02,  1.0720e-02,  4.2677e-02, -2.8332e-02,  2.9669e-02,\n",
       "                       2.6485e-02, -2.9749e-02, -2.2595e-02,  4.7476e-04, -1.0698e-02,\n",
       "                       2.0747e-02, -2.4095e-02,  1.1941e-02,  2.8819e-02,  2.7505e-02,\n",
       "                       4.2428e-02,  1.8748e-02,  2.4605e-02, -8.6955e-03,  2.3627e-02,\n",
       "                      -2.5882e-02,  1.7077e-02,  1.9856e-02,  2.1478e-02, -3.6912e-02,\n",
       "                       1.2190e-02,  1.7581e-04, -3.1447e-02, -3.0412e-02, -4.4121e-02,\n",
       "                      -2.1263e-02, -2.0872e-02, -1.9052e-02, -8.6317e-03, -1.0562e-02,\n",
       "                       2.2300e-02,  5.5622e-03, -1.0269e-02,  3.0903e-03,  4.0512e-02,\n",
       "                      -3.0996e-02,  2.4525e-02, -3.0388e-02, -3.8853e-03,  3.7029e-02,\n",
       "                      -3.9446e-02,  1.0526e-02, -3.1516e-02,  3.4533e-02,  2.8423e-02,\n",
       "                      -3.7644e-02, -2.6001e-02, -7.0969e-03,  3.6490e-02,  4.0435e-02,\n",
       "                      -1.5751e-02, -1.4779e-02,  2.8594e-03,  8.3509e-03,  1.2132e-02,\n",
       "                       7.2170e-03,  1.4058e-02,  2.6285e-02,  3.2868e-02, -1.7333e-02,\n",
       "                      -1.7116e-03,  2.8791e-02, -3.4627e-03, -4.2552e-03,  7.2968e-03,\n",
       "                       3.0359e-02, -3.1085e-02,  4.2413e-02, -1.1720e-02, -1.3182e-02,\n",
       "                       1.6866e-02, -2.5831e-02, -2.1442e-02, -3.0373e-02,  7.6597e-03,\n",
       "                      -2.8086e-02,  3.7933e-02, -7.9056e-03, -1.8491e-02, -1.5856e-02,\n",
       "                      -3.3779e-03,  2.1436e-02,  3.0867e-02,  3.4815e-02,  1.1059e-02,\n",
       "                       4.0874e-02,  4.0877e-02, -1.9116e-02,  1.1305e-02, -3.7808e-03,\n",
       "                      -2.8661e-02,  4.3534e-02, -1.9214e-02,  1.0337e-02,  1.1927e-02,\n",
       "                      -1.9626e-02, -7.3099e-03, -3.7257e-02, -3.2294e-02,  1.7674e-03,\n",
       "                      -1.7111e-02,  1.7884e-02,  1.4933e-03,  3.9268e-02, -3.7649e-02,\n",
       "                      -1.8645e-02, -3.7035e-02,  3.1414e-02,  1.4174e-02,  3.3652e-02,\n",
       "                      -4.3797e-02, -3.2821e-02, -1.8445e-03,  2.9274e-02,  3.9877e-02,\n",
       "                      -3.4093e-02, -1.7442e-02,  3.7845e-02, -2.1295e-03,  1.4900e-02,\n",
       "                      -1.9804e-05, -3.2298e-03, -2.5979e-03, -1.5978e-02, -1.9967e-02,\n",
       "                       2.2250e-02,  2.5416e-02, -1.9710e-03, -1.2824e-02,  1.8022e-02,\n",
       "                      -4.2048e-02, -1.2228e-02, -3.2532e-02,  3.4043e-02,  2.2042e-02,\n",
       "                      -2.1344e-02, -2.8341e-02,  1.1189e-03,  1.0023e-02,  1.7942e-02,\n",
       "                      -1.0320e-02,  4.0147e-02,  2.4270e-03,  2.4593e-02,  3.5120e-02,\n",
       "                       3.2519e-02,  1.4163e-02, -4.3092e-02, -1.8609e-02,  3.5594e-02,\n",
       "                      -5.5588e-03,  2.9851e-02, -1.9403e-02,  1.8617e-02,  3.8130e-03,\n",
       "                      -1.5213e-02,  1.7662e-02,  3.4132e-02,  5.0216e-03,  2.8970e-02,\n",
       "                      -3.0930e-02,  3.6689e-02,  3.7934e-02,  1.3186e-02,  3.8909e-02,\n",
       "                       3.5314e-02,  6.6055e-03,  4.1290e-02, -3.0298e-02,  3.4730e-02,\n",
       "                      -3.4930e-02, -3.2191e-02, -3.5653e-02, -3.1745e-02,  2.2109e-02,\n",
       "                       3.1147e-02, -1.3906e-02,  1.1877e-02,  3.7573e-02,  3.9380e-02,\n",
       "                      -7.3951e-03, -1.6908e-02, -3.0640e-02, -3.4406e-02,  4.0577e-03,\n",
       "                      -6.5222e-03,  5.5035e-03, -3.0433e-03, -4.0210e-02,  3.3060e-02,\n",
       "                      -2.5509e-02, -4.0254e-02, -1.7868e-02,  7.2287e-03, -2.6611e-02,\n",
       "                       1.7446e-03,  2.9714e-02, -3.4185e-02, -1.0858e-02,  3.4304e-02,\n",
       "                      -7.1829e-03, -2.9505e-02, -1.4593e-02, -1.9926e-02, -2.4017e-02,\n",
       "                      -3.8137e-03,  3.8633e-02,  1.9398e-02,  4.3951e-02,  2.3824e-02,\n",
       "                       4.2124e-02,  2.5919e-02, -6.8360e-03, -6.0669e-03,  5.0888e-03,\n",
       "                      -3.5244e-02, -3.8415e-02,  4.6880e-03,  4.2601e-03, -1.5061e-02,\n",
       "                      -4.2074e-02, -3.4476e-02,  1.6581e-02, -4.2333e-02,  2.9627e-02,\n",
       "                      -2.4783e-02, -8.0669e-03,  9.0181e-03,  2.8203e-02, -4.0438e-02,\n",
       "                      -1.4123e-02, -2.8815e-02, -2.1159e-02, -6.6293e-03,  1.7853e-02,\n",
       "                      -1.1354e-02,  8.2017e-03,  1.8592e-03, -8.1497e-03,  2.4727e-02,\n",
       "                      -3.4703e-02, -1.8125e-02,  3.4989e-02, -9.7153e-03, -1.9086e-02,\n",
       "                      -2.5829e-02,  1.0774e-02, -3.9008e-02,  1.8697e-02,  2.1334e-02,\n",
       "                       3.8632e-02,  2.8549e-02, -4.3910e-03,  1.6287e-02,  2.5247e-02,\n",
       "                       4.0711e-02, -1.5795e-02,  3.0044e-02, -1.9180e-02,  1.6887e-02,\n",
       "                      -2.7784e-02,  2.1045e-02, -3.4651e-02,  2.5477e-02, -5.7379e-03,\n",
       "                       3.3747e-02, -3.9206e-02,  5.7505e-03,  2.6981e-02, -1.8847e-02,\n",
       "                       3.9791e-02,  9.4135e-03,  8.0261e-04,  4.0115e-02, -3.2458e-02,\n",
       "                      -1.4284e-02,  3.0281e-02, -1.0164e-02, -3.7335e-02,  3.2361e-02,\n",
       "                      -1.4205e-02, -1.6657e-02,  3.9949e-02,  1.0929e-02,  2.0516e-02,\n",
       "                      -5.0830e-03,  2.0679e-02,  3.9425e-02,  6.3407e-03,  3.7744e-02,\n",
       "                       4.0528e-02,  1.8762e-02, -4.0479e-02,  4.3816e-02,  4.0745e-02,\n",
       "                      -2.1953e-03,  1.0235e-03,  2.1603e-02, -1.3566e-02,  1.4165e-02,\n",
       "                       2.9926e-02, -1.9006e-02, -2.0135e-02, -4.3617e-02,  4.2893e-02,\n",
       "                       3.7753e-02,  2.3436e-02, -2.3810e-03, -1.2941e-02,  9.2575e-04,\n",
       "                      -2.8448e-02,  5.9086e-03,  4.0301e-02,  1.9438e-02, -2.4054e-02,\n",
       "                       4.2373e-02, -3.1521e-02, -2.5367e-02, -4.1156e-02,  1.1698e-02,\n",
       "                      -1.4055e-03,  2.3334e-02, -1.8416e-02,  1.2456e-02, -3.5786e-02,\n",
       "                      -2.4677e-02,  4.3946e-02,  5.1172e-05,  1.0107e-02,  4.3850e-02,\n",
       "                       4.0329e-02, -2.2330e-02], device='cuda:0')),\n",
       "             ('layers.5.weight',\n",
       "              tensor([[ 0.0227,  0.0261,  0.0202,  ..., -0.0409, -0.0308, -0.0115],\n",
       "                      [-0.0100, -0.0151, -0.0408,  ...,  0.0271,  0.0400,  0.0345],\n",
       "                      [ 0.0266,  0.0106,  0.0425,  ..., -0.0073, -0.0050, -0.0008],\n",
       "                      ...,\n",
       "                      [-0.0283,  0.0049,  0.0438,  ..., -0.0253,  0.0116,  0.0090],\n",
       "                      [ 0.0196,  0.0013, -0.0424,  ...,  0.0232, -0.0075,  0.0265],\n",
       "                      [-0.0325, -0.0007,  0.0429,  ..., -0.0382,  0.0441,  0.0274]],\n",
       "                     device='cuda:0')),\n",
       "             ('layers.5.bias',\n",
       "              tensor([ 0.0377, -0.0226,  0.0189,  0.0319, -0.0274, -0.0375,  0.0271,  0.0221,\n",
       "                       0.0290,  0.0337], device='cuda:0'))])"
      ]
     },
     "execution_count": 39,
     "metadata": {},
     "output_type": "execute_result"
    }
   ],
   "source": [
    "MODEL_PATH = Path(\"models\")\n",
    "MODEL_NAME = \"conv_model_MNIST_FASHION.pth\"\n",
    "MODEL_LOAD_PATH = MODEL_PATH / MODEL_NAME\n",
    "\n",
    "model = torch.load(MODEL_LOAD_PATH, weights_only=True)\n",
    "model"
   ]
  }
 ],
 "metadata": {
  "kernelspec": {
   "display_name": ".venv",
   "language": "python",
   "name": "python3"
  },
  "language_info": {
   "codemirror_mode": {
    "name": "ipython",
    "version": 3
   },
   "file_extension": ".py",
   "mimetype": "text/x-python",
   "name": "python",
   "nbconvert_exporter": "python",
   "pygments_lexer": "ipython3",
   "version": "3.12.3"
  }
 },
 "nbformat": 4,
 "nbformat_minor": 2
}
